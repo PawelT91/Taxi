{
 "cells": [
  {
   "cell_type": "markdown",
   "metadata": {},
   "source": [
    "# Оформление проекта"
   ]
  },
  {
   "cell_type": "markdown",
   "metadata": {},
   "source": [
    "В рамках проекта был проведен анализ проанилизировал поездки такси в Нью-Йорке, с января по июнь 2016 года. Были размещенны данные на карте с использованием лменйной регрессионно модели, чтобы предсказывать поездки по дополнительным признакам."
   ]
  },
  {
   "cell_type": "code",
   "execution_count": 1,
   "metadata": {
    "collapsed": true
   },
   "outputs": [],
   "source": [
    "import io\n",
    "import os\n",
    "import folium\n",
    "import numpy as np\n",
    "import pandas as pd\n",
    "import datetime as dt\n",
    "import ipywidgets as widgets\n",
    "import matplotlib.pyplot as plt\n",
    "\n",
    "from mpl_toolkits.basemap import Basemap\n",
    "from matplotlib import cm\n",
    "from matplotlib import colors\n",
    "from matplotlib.patches import Polygon\n",
    "from matplotlib.cm import ScalarMappable\n",
    "from ipywidgets import widgets\n",
    "from __future__ import print_function\n",
    "from ipywidgets import interact, interactive, fixed, interact_manual\n",
    "from folium.plugins import HeatMap\n",
    "%matplotlib inline"
   ]
  },
  {
   "cell_type": "code",
   "execution_count": 3,
   "metadata": {
    "collapsed": true
   },
   "outputs": [],
   "source": [
    "regions = pd.read_table('regions.csv', ';')"
   ]
  },
  {
   "cell_type": "code",
   "execution_count": 4,
   "metadata": {
    "collapsed": true
   },
   "outputs": [],
   "source": [
    "reg = [1075,1076,1077,1125,1126,1127,1128, 1129,1130,1131,1132,1172,1173,1174,1175,\n",
    "       1176,1177,1178,1179,1180,1181,1182,1183,1184,1221,1222,1223,1224,1225,1227,\n",
    "       1228,1229,1230,1231,1232,1233,1234,1235,1272,1273,1274,1278,1279,1280,1281,\n",
    "       1282,1283,1284,1285,1286,1287,1326,1327,1331,1332,1333,1334,1335,1336,1337,\n",
    "       1338,1339,1376,1377,1378,1380,1382,1383,1384,1385,1386,1387,1388,1389,1390,\n",
    "       1426,1431,1434,1435,1436,1437,1438,1439,1441,1442,1480,1482,1483,1530,1532,\n",
    "       1533,1580,1630,1684,1733,1734,1783,2068,2069,2118,2119,2168]"
   ]
  },
  {
   "cell_type": "code",
   "execution_count": 64,
   "metadata": {},
   "outputs": [],
   "source": [
    "all_data = pd.read_csv('all_data.csv',index_col =0,header=0,parse_dates=True)\n",
    "all_data.columns = compact_all_data.columns.astype(int)\n",
    "\n",
    "pred = pd.read_csv('data_pred.csv',index_col =0,header=0,parse_dates=True)\n",
    "pred.columns = compact_pred.columns.astype(int)"
   ]
  },
  {
   "cell_type": "markdown",
   "metadata": {},
   "source": [
    "## Интерактивные карты"
   ]
  },
  {
   "cell_type": "code",
   "execution_count": 13,
   "metadata": {
    "collapsed": true
   },
   "outputs": [],
   "source": [
    "def get_coords(reg_id):\n",
    "    a = regions[regions.region == reg_id].values[0]\n",
    "    pts = [[a[4],a[1]],[a[4],a[2]],[a[3],a[2]],[a[3],a[1]]]\n",
    "    return pts"
   ]
  },
  {
   "cell_type": "markdown",
   "metadata": {},
   "source": [
    "### Реальные данные"
   ]
  },
  {
   "cell_type": "code",
   "execution_count": 92,
   "metadata": {},
   "outputs": [
    {
     "data": {
      "application/vnd.jupyter.widget-view+json": {
       "model_id": "af97cf0d78524ee8aaf56a2458015b0b",
       "version_major": 2,
       "version_minor": 0
      },
      "text/plain": [
       "A Jupyter Widget"
      ]
     },
     "metadata": {},
     "output_type": "display_data"
    }
   ],
   "source": [
    "@interact(map_date=compact_all_data['2016-06':].index)\n",
    "def draw_real_map(map_date):\n",
    "    map_values = pd.DataFrame(compact_all_data.loc[map_date,:])\n",
    "    mapper = cm.ScalarMappable(norm=cm.colors.LogNorm(vmin=1, vmax=np.max(map_values.iloc[:,0].values)), cmap=cm.inferno)\n",
    "    m = folium.Map(location=[40.7127, -73.8059],tiles='Stamen Terrain',\n",
    "    zoom_start=10.5)\n",
    "    for i in reg:\n",
    "        pts= get_coords(i)\n",
    "        color = colors.to_hex(mapper.to_rgba(map_values[map_values.index==i]).ravel())\n",
    "        folium.features.PolygonMarker( locations=pts, fill_color=color,fill_opacity=0.7, weight=1).add_to(m)\n",
    "        \n",
    "    return m"
   ]
  },
  {
   "cell_type": "markdown",
   "metadata": {},
   "source": [
    "### Предсказания"
   ]
  },
  {
   "cell_type": "code",
   "execution_count": 93,
   "metadata": {},
   "outputs": [
    {
     "data": {
      "application/vnd.jupyter.widget-view+json": {
       "model_id": "bb9f3001729c4a2ebddde2e649b92a92",
       "version_major": 2,
       "version_minor": 0
      },
      "text/plain": [
       "A Jupyter Widget"
      ]
     },
     "metadata": {},
     "output_type": "display_data"
    }
   ],
   "source": [
    "@interact(map_date=compact_all_data['2016-06':].index)\n",
    "def draw_pred_map(map_date):\n",
    "    map_values = pd.DataFrame(pred.loc[map_date,:])\n",
    "    mapper = cm.ScalarMappable(norm=cm.colors.LogNorm(vmin=1, vmax=np.max(map_values.iloc[:,0].values)), cmap=cm.inferno)\n",
    "    m = folium.Map(location=[40.7127, -73.8059],tiles='Stamen Toner',\n",
    "    zoom_start=10.5)\n",
    "    for i in reg:\n",
    "        pts = get_coords(i)\n",
    "        color = colors.to_hex(mapper.to_rgba(map_values[map_values.index==i]).ravel())\n",
    "        folium.features.PolygonMarker ( locations=pts, fill_color=color,fill_opacity=0.7, weight=1).add_to(m)\n",
    "        \n",
    "    return m"
   ]
  },
  {
   "cell_type": "markdown",
   "metadata": {},
   "source": [
    "## Реальные и прогнозные значения поездок в регионах"
   ]
  },
  {
   "cell_type": "code",
   "execution_count": 71,
   "metadata": {
    "collapsed": true
   },
   "outputs": [],
   "source": [
    "def draw_plots(reg_id):\n",
    "    fit = 0\n",
    "    reg_data = all_data.loc['2016-06':,reg_id]\n",
    "    reg_pred = pred.loc['2016-06':,reg_id]\n",
    "    fig = plt.figure(figsize=(20, 10))\n",
    "    reg_data.plot(xticks=None)\n",
    "    reg_pred.plot(xticks=None)\n",
    "    plt.show()"
   ]
  },
  {
   "cell_type": "code",
   "execution_count": 72,
   "metadata": {},
   "outputs": [
    {
     "data": {
      "application/vnd.jupyter.widget-view+json": {
       "model_id": "50d29d2d93a4419e8a4c2e46393f3e2f",
       "version_major": 2,
       "version_minor": 0
      },
      "text/plain": [
       "A Jupyter Widget"
      ]
     },
     "metadata": {},
     "output_type": "display_data"
    },
    {
     "data": {
      "text/plain": [
       "<function __main__.draw_plots>"
      ]
     },
     "execution_count": 72,
     "metadata": {},
     "output_type": "execute_result"
    }
   ],
   "source": [
    "interact(draw_plots, reg_id=reg)"
   ]
  },
  {
   "cell_type": "markdown",
   "metadata": {},
   "source": [
    "## Вывод: в данной работе были представлены интерактивные графики, позволяющие представить работу получившихся моделей"
   ]
  }
 ],
 "metadata": {
  "kernelspec": {
   "display_name": "Python 2",
   "language": "python",
   "name": "python2"
  },
  "language_info": {
   "codemirror_mode": {
    "name": "ipython",
    "version": 2
   },
   "file_extension": ".py",
   "mimetype": "text/x-python",
   "name": "python",
   "nbconvert_exporter": "python",
   "pygments_lexer": "ipython2",
   "version": "2.7.14"
  }
 },
 "nbformat": 4,
 "nbformat_minor": 2
}
